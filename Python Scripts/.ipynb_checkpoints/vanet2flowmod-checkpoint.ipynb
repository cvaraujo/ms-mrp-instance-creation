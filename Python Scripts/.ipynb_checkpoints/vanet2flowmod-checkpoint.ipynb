{
 "cells": [
  {
   "cell_type": "code",
   "execution_count": 10,
   "metadata": {},
   "outputs": [],
   "source": [
    "# Script to convert the archive of range connections\n",
    "import re\n",
    "import sys"
   ]
  },
  {
   "cell_type": "code",
   "execution_count": 11,
   "metadata": {},
   "outputs": [],
   "source": [
    "class Arc:\n",
    "    def __init__(self):\n",
    "        self.start = 0.0\n",
    "        self.stop = 0.0\n",
    "        self.connections = []\n",
    "        self.multi_connections = False"
   ]
  },
  {
   "cell_type": "code",
   "execution_count": 14,
   "metadata": {},
   "outputs": [],
   "source": [
    "def create_flow(archive_name, flow_archive_name, number_of_nodes):\n",
    "    archive = open(archive_name, \"r\")\n",
    "    flow_archive = open(flow_archive_name, \"w\")\n",
    "    arcs = [[Arc() for i in range(number_of_nodes)] for i in range(number_of_nodes)]\n",
    "    \n",
    "    cont = 0\n",
    "    for line in archive:\n",
    "        splited_line = line.split(\";\")\n",
    "        time = float(splited_line[1])\n",
    "        vehicle_id = int(splited_line[2])\n",
    "        connections = splited_line[4]      \n",
    "        \n",
    "        if (vehicle_id < number_of_nodes):\n",
    "            splited_con = connections.split(' ')\n",
    "            number_of_connections = int(splited_con[0])\n",
    "            \n",
    "            for i in range(1, number_of_connections+1):\n",
    "                second_vehicle = int(splited_con[i])\n",
    "                if (second_vehicle < number_of_nodes): \n",
    "#                     text = \"#Define traffic from node {0} to node {1}\\nset udp_({2}) [new Agent/UDP] \\n$ns_ attach-agent $node_({0}) $udp_({2})\\nset null_({2}) [new Agent/Null]\\n$ns_ attach-agent $node_({1}) $null_({2}) \\nset cbr_({2}) [new Application/Traffic/CBR]\\n$cbr_({2}) set packetSize_ 512 \\n$cbr_({2}) set rate_ $opt(cbr-rate) \\n$cbr_({2}) set random_ 1 \\n$cbr_({2}) attach-agent $udp_({2}) \\n$ns_ connect $udp_({2}) $null_({2}) \\n$ns_ at {3} \\\"$cbr_({2}) start\\\" \\n$ns_ at {4} \\\"$cbr_({2}) stop\\\" \\n# \\n\".format(str(vehicle_id), str(second_vehicle), str(cont), str(time), str(time+1))\n",
    "#                     flow_archive.write(text.strip())\n",
    "#                     cont += 1\n",
    "                    if arcs[vehicle_id][second_vehicle].start == 0:\n",
    "                        arcs[vehicle_id][second_vehicle].start = time\n",
    "                        arcs[vehicle_id][second_vehicle].stop = time\n",
    "                        \n",
    "                    elif arcs[vehicle_id][second_vehicle].stop+1 == time:\n",
    "                        arcs[vehicle_id][second_vehicle].stop = time\n",
    "                        \n",
    "                    elif arcs[vehicle_id][second_vehicle].stop+1 != time:\n",
    "                        text = \"#Define traffic from node {0} to node {1}\\nset udp_({2}) [new Agent/UDP] \\n$ns_ attach-agent $node_({0}) $udp_({2})\\nset null_({2}) [new Agent/Null]\\n$ns_ attach-agent $node_({1}) $null_({2}) \\nset cbr_({2}) [new Application/Traffic/CBR]\\n$cbr_({2}) set packetSize_ 512 \\n$cbr_({2}) set rate_ $opt(cbr-rate) \\n$cbr_({2}) set random_ 1 \\n$cbr_({2}) attach-agent $udp_({2}) \\n$ns_ connect $udp_({2}) $null_({2}) \\n$ns_ at {3} \\\"$cbr_({2}) start\\\" \\n$ns_ at {4} \\\"$cbr_({2}) stop\\\" \\n# \\n\".format(str(vehicle_id), str(second_vehicle), str(cont), str(arcs[vehicle_id][second_vehicle].start), str(arcs[vehicle_id][second_vehicle].stop))\n",
    "                        arcs[vehicle_id][second_vehicle].start = arcs[vehicle_id][second_vehicle].stop = time\n",
    "                        arcs[vehicle_id][second_vehicle].multi_connections = True\n",
    "                        cont += 1 \n",
    "                        \n",
    "                        arcs[vehicle_id][second_vehicle].connections.append(text)\n",
    "                    \n",
    "#                     flow_archive.write(text.strip())            \n",
    "    cont = 0                   \n",
    "    for i in range(number_of_nodes):\n",
    "        for j in range(number_of_nodes):\n",
    "#             if (i != j):\n",
    "#                 if (arcs[i][j].multi_connections == True):\n",
    "#                     for c in arcs[i][j].connections:\n",
    "#                         flow_archive.write(c.strip())\n",
    "#                     if (arcs[i][j].stop != arcs[i][j].start):\n",
    "#                         text = \"#Define traffic from node {0} to node {1}\\nset udp_({2}) [new Agent/UDP] \\n$ns_ attach-agent $node_({0}) $udp_({2})\\nset null_({2}) [new Agent/Null]\\n$ns_ attach-agent $node_({1}) $null_({2}) \\nset cbr_({2}) [new Application/Traffic/CBR]\\n$cbr_({2}) set packetSize_ 512 \\n$cbr_({2}) set rate_ $opt(cbr-rate) \\n$cbr_({2}) set random_ 1 \\n$cbr_({2}) attach-agent $udp_({2}) \\n$ns_ connect $udp_({2}) $null_({2}) \\n$ns_ at {3} \\\"$cbr_({2}) start\\\" \\n$ns_ at {4} \\\"$cbr_({2}) stop\\\" \\n# \\n\".format(str(i), str(j), str(cont), str(arcs[i][j].start), str(arcs[i][j].stop))\n",
    "#                         flow_archive.write(text.strip())            \n",
    "#                         cont += 1\n",
    "#                 else:\n",
    "            if (arcs[i][j].stop != arcs[i][j].start):\n",
    "                text = \"#Define traffic from node {0} to node {1}\\nset udp_({2}) [new Agent/UDP] \\n$ns_ attach-agent $node_({0}) $udp_({2})\\nset null_({2}) [new Agent/Null]\\n$ns_ attach-agent $node_({1}) $null_({2}) \\nset cbr_({2}) [new Application/Traffic/CBR]\\n$cbr_({2}) set packetSize_ 512 \\n$cbr_({2}) set rate_ $opt(cbr-rate) \\n$cbr_({2}) set random_ 1 \\n$cbr_({2}) attach-agent $udp_({2}) \\n$ns_ connect $udp_({2}) $null_({2}) \\n$ns_ at {3} \\\"$cbr_({2}) start\\\" \\n$ns_ at {4} \\\"$cbr_({2}) stop\\\" \\n# \\n\".format(str(i), str(j), str(cont), str(arcs[i][j].start), str(arcs[i][j].stop))\n",
    "                flow_archive.write(text.strip())            \n",
    "                cont += 1     "
   ]
  },
  {
   "cell_type": "code",
   "execution_count": 15,
   "metadata": {},
   "outputs": [],
   "source": [
    "def normalize_mobility(archive_name, new_mobility_archive, number_of_nodes, time):\n",
    "    archive = open(archive_name, \"r\")\n",
    "    new_mobility = open(new_mobility_archive, \"w\")\n",
    "    \n",
    "    for line in archive:\n",
    "        line_splitted = line.split(\" \")\n",
    "        node = number_of_nodes\n",
    "        actual_time = 0\n",
    "        if len(line_splitted) > 4:\n",
    "            node = int(re.findall(r'\\d+', line_splitted[3])[0])\n",
    "            actual_time = float(line_splitted[2])\n",
    "        else:\n",
    "            node = int(re.findall(r'\\d+', line_splitted[0])[0])\n",
    "        if (node < number_of_nodes and actual_time <= time):\n",
    "                new_mobility.write(line)"
   ]
  },
  {
   "cell_type": "code",
   "execution_count": 9,
   "metadata": {},
   "outputs": [],
   "source": [
    "nodes = 150\n",
    "time = 250\n",
    "for i in range(10, 20, 10):\n",
    "    flow = '/home/carlos/Documents/Washington-50x50/FCD - Chunck/connections-washington-50-300-250seg.txt'\n",
    "    flow_output = '/home/carlos/Documents/flowmod-washington-50-' + str(nodes) + '.tcl'\n",
    "    mobility = '/home/carlos/Documents/Washington-50x50/FCD - Chunck/washington-50-mobility.tcl'\n",
    "    mobility_output = '/home/carlos/Documents/mobility-washington-50-' + str(nodes) + '.tcl'\n",
    "    \n",
    "    create_flow(flow, flow_output, nodes)\n",
    "    normalize_mobility(mobility, mobility_output, nodes, time)"
   ]
  },
  {
   "cell_type": "code",
   "execution_count": null,
   "metadata": {},
   "outputs": [],
   "source": []
  },
  {
   "cell_type": "code",
   "execution_count": null,
   "metadata": {},
   "outputs": [],
   "source": []
  },
  {
   "cell_type": "code",
   "execution_count": 16,
   "metadata": {},
   "outputs": [],
   "source": []
  },
  {
   "cell_type": "code",
   "execution_count": null,
   "metadata": {},
   "outputs": [],
   "source": []
  }
 ],
 "metadata": {
  "kernelspec": {
   "display_name": "Python 3",
   "language": "python",
   "name": "python3"
  },
  "language_info": {
   "codemirror_mode": {
    "name": "ipython",
    "version": 3
   },
   "file_extension": ".py",
   "mimetype": "text/x-python",
   "name": "python",
   "nbconvert_exporter": "python",
   "pygments_lexer": "ipython3",
   "version": "3.7.3"
  }
 },
 "nbformat": 4,
 "nbformat_minor": 2
}
